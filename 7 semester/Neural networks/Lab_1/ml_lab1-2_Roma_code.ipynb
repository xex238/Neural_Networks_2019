{
 "cells": [
  {
   "cell_type": "code",
   "execution_count": 1,
   "metadata": {},
   "outputs": [],
   "source": [
    "import numpy as np\n",
    "import random\n",
    "import math\n",
    "import pylab\n",
    "from matplotlib import mlab"
   ]
  },
  {
   "cell_type": "code",
   "execution_count": 2,
   "metadata": {},
   "outputs": [],
   "source": [
    "def sigmoid(x):\n",
    "    return 1 / (1 + np.exp(-x))"
   ]
  },
  {
   "cell_type": "raw",
   "metadata": {},
   "source": [
    "Функция чтения из файла данных:"
   ]
  },
  {
   "cell_type": "code",
   "execution_count": 3,
   "metadata": {},
   "outputs": [],
   "source": [
    "def read_data():\n",
    "    x=[]\n",
    "    y=[]\n",
    "    with open (\"bank.txt\", \"r\") as f:\n",
    "        for ind,line in enumerate(f.readlines()):\n",
    "            r=line.split(\",\")\n",
    "            x.append([float(i) for l,i in enumerate(r) if 0<=l<=3])\n",
    "            y.append(int(r[4]))\n",
    "    return x,y"
   ]
  },
  {
   "cell_type": "raw",
   "metadata": {},
   "source": [
    "Функция разбиения на 3 подсета:"
   ]
  },
  {
   "cell_type": "code",
   "execution_count": 4,
   "metadata": {},
   "outputs": [],
   "source": [
    "def vib():\n",
    "    x,y=read_data()\n",
    "    test_x=[]\n",
    "    val_x=[]\n",
    "    train_x=[]\n",
    "    test_y=[]\n",
    "    val_y=[]\n",
    "    train_y=[]\n",
    "    for i in range(len(x)):\n",
    "        g = random.randint(0,9)\n",
    "        if g==0:\n",
    "            val_x.append(x[i])\n",
    "            val_y.append(y[i])\n",
    "            continue\n",
    "        if g==1 or g==2:\n",
    "            test_x.append(x[i])\n",
    "            test_y.append(y[i])\n",
    "            continue\n",
    "        train_x.append(x[i])\n",
    "        train_y.append(y[i])\n",
    "    return(train_x,train_y,test_x,test_y,val_x,val_y)"
   ]
  },
  {
   "cell_type": "code",
   "execution_count": 5,
   "metadata": {},
   "outputs": [
    {
     "name": "stdout",
     "output_type": "stream",
     "text": [
      "тренировочная выборка: 971\n",
      "тестовая выборка: 295\n",
      "валидационная выборка: 106\n"
     ]
    }
   ],
   "source": [
    "tr_x,tr_y,tst_x,tst_y,val_x,val_y = vib()\n",
    "print(\"тренировочная выборка:\",len(tr_x))\n",
    "print(\"тестовая выборка:\",len(tst_x))\n",
    "print(\"валидационная выборка:\",len(val_x))"
   ]
  },
  {
   "cell_type": "code",
   "execution_count": 6,
   "metadata": {},
   "outputs": [],
   "source": [
    "#Функция логистической ошибки\n",
    "def loss(sig,y):\n",
    "    return (-y*math.log(sig)-(1-y)*math.log(1-sig))\n",
    "#Функция градиента\n",
    "def grad(x, sig, y):\n",
    "    d=x*(sig-y)\n",
    "    return d\n",
    "#Апдейт весов с шагом в сторону антиградиента\n",
    "def update_ws(w, learn_rate, grad):\n",
    "    return w-learn_rate*grad"
   ]
  },
  {
   "cell_type": "code",
   "execution_count": 7,
   "metadata": {},
   "outputs": [],
   "source": [
    "#коэффициент обучения\n",
    "kob=0.1\n",
    "#Обучающая функция\n",
    "def fit(x,y): \n",
    "    r_ws =np.array([0.5 for i in range(len(x[0]))]) #Веса\n",
    "    for i in range(100000):\n",
    "        k=random.randint(0,len(x)-1)\n",
    "        npx=np.array(x[k])\n",
    "        c_sig=sigmoid(np.dot(r_ws,npx))\n",
    "        c_grad=grad(npx,c_sig,y[k])\n",
    "        r_ws=update_ws(r_ws,kob,c_grad)\n",
    "    return(r_ws)"
   ]
  },
  {
   "cell_type": "code",
   "execution_count": 8,
   "metadata": {},
   "outputs": [],
   "source": [
    "def accuracy_metrics(y, ny):\n",
    "    summ = 0\n",
    "    y = np.array(y)\n",
    "    ny = np.array(ny)\n",
    "    for i in range(len(y)):\n",
    "        if np.array_equal(y[i],ny[i]):\n",
    "            summ += 1\n",
    "    return summ / len(y)\n",
    "def recall_metrics(y, ny):\n",
    "    TP = 0\n",
    "    FP = 0\n",
    "    FN = 0\n",
    "    for i in range(len(y)):\n",
    "        if y[i] == ny[i] and y[i] == 1:\n",
    "            TP += 1\n",
    "        elif y[i] == 1:\n",
    "            FP += 1\n",
    "        elif y[i] != ny[i] and y[i] == 0:\n",
    "            FN += 1\n",
    "    return TP / (TP + FN)\n",
    "def precision_metrics(y, ny):\n",
    "    TP = 0\n",
    "    FP = 0\n",
    "    FN = 0\n",
    "    for i in range(len(y)):\n",
    "        if y[i] == ny[i]and y[i] == 1:\n",
    "            TP += 1\n",
    "        elif y[i]==1:\n",
    "            FP += 1\n",
    "    return TP / (TP + FP)"
   ]
  },
  {
   "cell_type": "code",
   "execution_count": 9,
   "metadata": {},
   "outputs": [],
   "source": [
    "def predict(x,y,ws):\n",
    "    lod=[]\n",
    "    for i in range(len(x)):\n",
    "        npx=np.array(x[i])\n",
    "        c_sig=sigmoid(np.dot(npx,ws))\n",
    "        if c_sig>0.5:\n",
    "            lod.append(1)\n",
    "        else:\n",
    "            lod.append(0)\n",
    "    print(\"accuracy:\",accuracy_metrics(y,lod))\n",
    "    print(\"recall:\",recall_metrics(y,lod))\n",
    "    print(\"precision:\",precision_metrics(y,lod))\n",
    "    for i in range(len(y)):\n",
    "        print(lod[i],y[i])"
   ]
  },
  {
   "cell_type": "code",
   "execution_count": 10,
   "metadata": {},
   "outputs": [],
   "source": [
    "ws=fit(tr_x,tr_y)"
   ]
  },
  {
   "cell_type": "code",
   "execution_count": 11,
   "metadata": {},
   "outputs": [
    {
     "name": "stdout",
     "output_type": "stream",
     "text": [
      "[-4.72397553 -3.14719212 -3.18077421 -2.2700784 ]\n"
     ]
    }
   ],
   "source": [
    "print(ws)"
   ]
  },
  {
   "cell_type": "code",
   "execution_count": 12,
   "metadata": {},
   "outputs": [
    {
     "name": "stdout",
     "output_type": "stream",
     "text": [
      "accuracy: 0.9433962264150944\n",
      "recall: 0.9487179487179487\n",
      "precision: 0.9024390243902439\n",
      "0 0\n",
      "0 0\n",
      "0 0\n",
      "0 0\n",
      "0 0\n",
      "0 0\n",
      "0 0\n",
      "0 0\n",
      "0 0\n",
      "0 0\n",
      "0 0\n",
      "0 0\n",
      "0 0\n",
      "0 0\n",
      "1 0\n",
      "0 0\n",
      "0 0\n",
      "0 0\n",
      "0 0\n",
      "0 0\n",
      "0 0\n",
      "0 0\n",
      "0 0\n",
      "0 0\n",
      "0 0\n",
      "0 0\n",
      "0 0\n",
      "0 0\n",
      "0 0\n",
      "0 0\n",
      "1 0\n",
      "0 0\n",
      "0 0\n",
      "0 0\n",
      "0 0\n",
      "0 0\n",
      "0 0\n",
      "0 0\n",
      "0 0\n",
      "0 0\n",
      "0 0\n",
      "0 0\n",
      "0 0\n",
      "0 0\n",
      "0 0\n",
      "0 0\n",
      "0 0\n",
      "0 0\n",
      "0 0\n",
      "0 0\n",
      "0 0\n",
      "0 0\n",
      "0 0\n",
      "0 0\n",
      "0 0\n",
      "0 0\n",
      "0 0\n",
      "0 0\n",
      "0 0\n",
      "0 0\n",
      "0 0\n",
      "0 0\n",
      "0 0\n",
      "0 0\n",
      "0 0\n",
      "1 1\n",
      "1 1\n",
      "1 1\n",
      "1 1\n",
      "1 1\n",
      "1 1\n",
      "1 1\n",
      "1 1\n",
      "1 1\n",
      "1 1\n",
      "1 1\n",
      "0 1\n",
      "1 1\n",
      "1 1\n",
      "1 1\n",
      "1 1\n",
      "1 1\n",
      "1 1\n",
      "0 1\n",
      "1 1\n",
      "1 1\n",
      "1 1\n",
      "1 1\n",
      "1 1\n",
      "1 1\n",
      "1 1\n",
      "1 1\n",
      "1 1\n",
      "1 1\n",
      "1 1\n",
      "1 1\n",
      "1 1\n",
      "1 1\n",
      "1 1\n",
      "0 1\n",
      "1 1\n",
      "1 1\n",
      "1 1\n",
      "1 1\n",
      "1 1\n",
      "0 1\n"
     ]
    }
   ],
   "source": [
    "predict(val_x,val_y,ws)"
   ]
  }
 ],
 "metadata": {
  "kernelspec": {
   "display_name": "Python 3",
   "language": "python",
   "name": "python3"
  },
  "language_info": {
   "codemirror_mode": {
    "name": "ipython",
    "version": 3
   },
   "file_extension": ".py",
   "mimetype": "text/x-python",
   "name": "python",
   "nbconvert_exporter": "python",
   "pygments_lexer": "ipython3",
   "version": "3.7.3"
  }
 },
 "nbformat": 4,
 "nbformat_minor": 4
}
